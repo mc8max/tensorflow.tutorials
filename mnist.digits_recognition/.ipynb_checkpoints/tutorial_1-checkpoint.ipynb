{
 "cells": [
  {
   "cell_type": "code",
   "execution_count": 18,
   "id": "4600102f",
   "metadata": {},
   "outputs": [],
   "source": [
    "from numpy import unique, argmax\n",
    "from tensorflow.keras.datasets.mnist import load_data\n",
    "from tensorflow.keras import Sequential\n",
    "from tensorflow.keras.layers import Conv2D\n",
    "from tensorflow.keras.layers import MaxPool2D\n",
    "from tensorflow.keras.layers import Dense\n",
    "from tensorflow.keras.layers import Flatten\n",
    "from tensorflow.keras.layers import Dropout\n",
    "from tensorflow.keras.utils import plot_model\n",
    "from matplotlib import pyplot\n",
    "import matplotlib.pyplot as plt\n",
    "import numpy as np"
   ]
  },
  {
   "cell_type": "markdown",
   "id": "bc3145fd",
   "metadata": {},
   "source": [
    "### Load The Data"
   ]
  },
  {
   "cell_type": "code",
   "execution_count": 19,
   "id": "f479d83e",
   "metadata": {},
   "outputs": [],
   "source": [
    "(x_train, y_train), (x_test, y_test) = load_data()\n",
    "\n",
    "def reshape_with_color_channel(data):\n",
    "    # TODO What is the purpose of this reshape color channel\n",
    "    return data.reshape((data.shape[0], data.shape[1], data.shape[2], 1))\n",
    "\n",
    "def normalize_image(data):\n",
    "    return data.astype('float32') / 255.0\n",
    "\n",
    "x_train = reshape_with_color_channel(x_train)\n",
    "x_test = reshape_with_color_channel(x_test)"
   ]
  },
  {
   "cell_type": "markdown",
   "id": "bd58ae7d",
   "metadata": {},
   "source": [
    "### Explore Data"
   ]
  },
  {
   "cell_type": "markdown",
   "id": "e67b26d5",
   "metadata": {},
   "source": [
    "### Preprocess Data"
   ]
  },
  {
   "cell_type": "markdown",
   "id": "52e8f252",
   "metadata": {},
   "source": [
    "### Train Data\n"
   ]
  },
  {
   "cell_type": "markdown",
   "id": "fb6c7b41",
   "metadata": {},
   "source": [
    "### Test and Evaluate"
   ]
  },
  {
   "cell_type": "markdown",
   "id": "5338823a",
   "metadata": {},
   "source": [
    "### Predict"
   ]
  },
  {
   "cell_type": "code",
   "execution_count": null,
   "id": "c99351d8",
   "metadata": {},
   "outputs": [],
   "source": []
  }
 ],
 "metadata": {
  "kernelspec": {
   "display_name": "Python 3",
   "language": "python",
   "name": "python3"
  },
  "language_info": {
   "codemirror_mode": {
    "name": "ipython",
    "version": 3
   },
   "file_extension": ".py",
   "mimetype": "text/x-python",
   "name": "python",
   "nbconvert_exporter": "python",
   "pygments_lexer": "ipython3",
   "version": "3.8.8"
  }
 },
 "nbformat": 4,
 "nbformat_minor": 5
}
